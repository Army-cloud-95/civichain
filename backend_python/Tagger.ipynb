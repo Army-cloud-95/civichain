{
 "cells": [
  {
   "cell_type": "code",
   "execution_count": 3,
   "id": "6cbf4287-3dec-4118-92b6-781f3f451ee7",
   "metadata": {},
   "outputs": [],
   "source": [
    "import pandas as pd\n",
    "from sklearn.model_selection import train_test_split\n",
    "from sklearn.preprocessing import MultiLabelBinarizer\n",
    "\n",
    "df = pd.read_csv(\"social_issues_dataset_multitag_large.csv\")\n",
    "\n",
    "df['title'] = df['title'].fillna(\"\")\n",
    "df['description'] = df['description'].fillna(\"\")\n",
    "df['text'] = df['title'] + \". \" + df['description']\n",
    "\n",
    "train_df, val_df = train_test_split(df, test_size=0.1, random_state=42)\n",
    "\n",
    "mlb = MultiLabelBinarizer()\n",
    "train_tags = mlb.fit_transform(train_df['tags'].apply(eval))\n",
    "val_tags = mlb.transform(val_df['tags'].apply(eval))"
   ]
  },
  {
   "cell_type": "code",
   "execution_count": 4,
   "id": "b9f7612b-5d8e-4d0f-82c0-547c6909dc06",
   "metadata": {},
   "outputs": [
    {
     "name": "stderr",
     "output_type": "stream",
     "text": [
      "Some weights of BertForSequenceClassification were not initialized from the model checkpoint at bert-base-uncased and are newly initialized: ['classifier.bias', 'classifier.weight']\n",
      "You should probably TRAIN this model on a down-stream task to be able to use it for predictions and inference.\n"
     ]
    },
    {
     "data": {
      "text/html": [
       "\n",
       "    <div>\n",
       "      \n",
       "      <progress value='255' max='255' style='width:300px; height:20px; vertical-align: middle;'></progress>\n",
       "      [255/255 01:02, Epoch 3/3]\n",
       "    </div>\n",
       "    <table border=\"1\" class=\"dataframe\">\n",
       "  <thead>\n",
       " <tr style=\"text-align: left;\">\n",
       "      <th>Epoch</th>\n",
       "      <th>Training Loss</th>\n",
       "      <th>Validation Loss</th>\n",
       "    </tr>\n",
       "  </thead>\n",
       "  <tbody>\n",
       "    <tr>\n",
       "      <td>1</td>\n",
       "      <td>No log</td>\n",
       "      <td>0.258524</td>\n",
       "    </tr>\n",
       "    <tr>\n",
       "      <td>2</td>\n",
       "      <td>No log</td>\n",
       "      <td>0.193784</td>\n",
       "    </tr>\n",
       "    <tr>\n",
       "      <td>3</td>\n",
       "      <td>No log</td>\n",
       "      <td>0.181733</td>\n",
       "    </tr>\n",
       "  </tbody>\n",
       "</table><p>"
      ],
      "text/plain": [
       "<IPython.core.display.HTML object>"
      ]
     },
     "metadata": {},
     "output_type": "display_data"
    },
    {
     "data": {
      "text/plain": [
       "TrainOutput(global_step=255, training_loss=0.26610143324908087, metrics={'train_runtime': 64.5884, 'train_samples_per_second': 62.705, 'train_steps_per_second': 3.948, 'total_flos': 64525108493700.0, 'train_loss': 0.26610143324908087, 'epoch': 3.0})"
      ]
     },
     "execution_count": 4,
     "metadata": {},
     "output_type": "execute_result"
    }
   ],
   "source": [
    "from transformers import BertTokenizer, BertForSequenceClassification, Trainer, TrainingArguments\n",
    "import torch.nn as nn\n",
    "import torch\n",
    "\n",
    "tokenizer = BertTokenizer.from_pretrained(\"bert-base-uncased\")\n",
    "\n",
    "train_encodings = tokenizer(train_df['text'].tolist(), truncation=True, padding=True, max_length=256)\n",
    "val_encodings = tokenizer(val_df['text'].tolist(), truncation=True, padding=True, max_length=256)\n",
    "\n",
    "class MultiLabelDataset(torch.utils.data.Dataset):\n",
    "    def __init__(self, encodings, labels):\n",
    "        self.encodings = encodings\n",
    "        self.labels = labels\n",
    "    def __len__(self): return len(self.labels)\n",
    "    def __getitem__(self, idx):\n",
    "        item = {k: torch.tensor(v[idx]) for k, v in self.encodings.items()}\n",
    "        item[\"labels\"] = torch.tensor(self.labels[idx]).float()\n",
    "        return item\n",
    "\n",
    "train_dataset = MultiLabelDataset(train_encodings, train_tags)\n",
    "val_dataset = MultiLabelDataset(val_encodings, val_tags)\n",
    "\n",
    "# class MultiLabelBert(nn.Module):\n",
    "#     def __init__(self, num_labels):\n",
    "#         super().__init__()\n",
    "#         self.bert = BertForSequenceClassification.from_pretrained(\"bert-base-uncased\", num_labels=num_labels, problem_type=\"multi_label_classification\")\n",
    "#         self.sigmoid = nn.Sigmoid()\n",
    "#     def forward(self, **x):\n",
    "#         out = self.bert(**x)\n",
    "#         out.logits = self.sigmoid(out.logits)\n",
    "#         return out\n",
    "\n",
    "model = BertForSequenceClassification.from_pretrained(\n",
    "    \"bert-base-uncased\",\n",
    "    num_labels=len(mlb.classes_),\n",
    "    problem_type=\"multi_label_classification\"\n",
    ").cuda()\n",
    "\n",
    "args = TrainingArguments(\n",
    "    output_dir=\"./tag_model\",\n",
    "    eval_strategy=\"epoch\",\n",
    "    per_device_train_batch_size=16,\n",
    "    per_device_eval_batch_size=16,\n",
    "    num_train_epochs=3,\n",
    "    logging_dir=\"./logs\",\n",
    ")\n",
    "\n",
    "trainer = Trainer(\n",
    "    model=model,\n",
    "    args=args,\n",
    "    train_dataset=train_dataset,\n",
    "    eval_dataset=val_dataset,\n",
    ")\n",
    "\n",
    "trainer.train()"
   ]
  },
  {
   "cell_type": "code",
   "execution_count": 5,
   "id": "0a7eaabe-6cf4-4aab-b88e-1cd4d7ba305f",
   "metadata": {},
   "outputs": [
    {
     "name": "stdout",
     "output_type": "stream",
     "text": [
      "Predicted Tags: ['garbage']\n"
     ]
    }
   ],
   "source": [
    "inputs = tokenizer(\"Overflowing garbage bins in park\", return_tensors=\"pt\").to(\"cuda\")\n",
    "outputs = model(**inputs)\n",
    "preds = (outputs.logits > 0.5).int().squeeze().cpu().tolist()\n",
    "tags = [tag for i, tag in enumerate(mlb.classes_) if preds[i]]\n",
    "print(\"Predicted Tags:\", tags)"
   ]
  },
  {
   "cell_type": "code",
   "execution_count": 6,
   "id": "6012768d-c037-4f9f-88ae-eed98875eb9e",
   "metadata": {},
   "outputs": [
    {
     "data": {
      "text/plain": [
       "['mlb.pkl']"
      ]
     },
     "execution_count": 6,
     "metadata": {},
     "output_type": "execute_result"
    }
   ],
   "source": [
    "# Save tagging model and tokenizer\n",
    "model.save_pretrained(\"./tagging_model\")\n",
    "tokenizer.save_pretrained(\"./tagging_model\")\n",
    "\n",
    "# Also save your MultiLabelBinarizer (used to inverse the prediction labels)\n",
    "import joblib\n",
    "joblib.dump(mlb, \"mlb.pkl\")  # mlb = MultiLabelBinarizer()\n"
   ]
  },
  {
   "cell_type": "code",
   "execution_count": null,
   "id": "41cc9002-d57c-4c8f-808c-6a462d5d68cf",
   "metadata": {},
   "outputs": [],
   "source": []
  }
 ],
 "metadata": {
  "kernelspec": {
   "display_name": "Python 3 (ipykernel)",
   "language": "python",
   "name": "python3"
  },
  "language_info": {
   "codemirror_mode": {
    "name": "ipython",
    "version": 3
   },
   "file_extension": ".py",
   "mimetype": "text/x-python",
   "name": "python",
   "nbconvert_exporter": "python",
   "pygments_lexer": "ipython3",
   "version": "3.12.11"
  }
 },
 "nbformat": 4,
 "nbformat_minor": 5
}
