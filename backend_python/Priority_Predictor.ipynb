{
 "cells": [
  {
   "cell_type": "code",
   "execution_count": 7,
   "id": "853eaa13-8cfe-4a79-9750-d28d54238fa6",
   "metadata": {},
   "outputs": [],
   "source": [
    "import pandas as pd\n",
    "from sklearn.model_selection import train_test_split\n",
    "from sklearn.preprocessing import MultiLabelBinarizer\n",
    "\n",
    "df = pd.read_csv(\"social_issues_dataset_multitag_large.csv\")\n",
    "\n",
    "df['title'] = df['title'].fillna(\"\")\n",
    "df['description'] = df['description'].fillna(\"\")\n",
    "df['text'] = df['title'] + \". \" + df['description']\n",
    "\n",
    "train_df, val_df = train_test_split(df, test_size=0.1, random_state=42)\n",
    "\n",
    "priority_labels = {\"low\": 0, \"medium\": 1, \"high\": 2}\n",
    "train_df['priority_label'] = train_df['priority'].map(priority_labels)\n",
    "val_df['priority_label'] = val_df['priority'].map(priority_labels)"
   ]
  },
  {
   "cell_type": "code",
   "execution_count": 8,
   "id": "52d237ea-5867-4f40-a866-65622b211f0c",
   "metadata": {},
   "outputs": [
    {
     "name": "stderr",
     "output_type": "stream",
     "text": [
      "Some weights of DistilBertForSequenceClassification were not initialized from the model checkpoint at distilbert-base-uncased and are newly initialized: ['classifier.bias', 'classifier.weight', 'pre_classifier.bias', 'pre_classifier.weight']\n",
      "You should probably TRAIN this model on a down-stream task to be able to use it for predictions and inference.\n"
     ]
    },
    {
     "data": {
      "text/html": [
       "\n",
       "    <div>\n",
       "      \n",
       "      <progress value='255' max='255' style='width:300px; height:20px; vertical-align: middle;'></progress>\n",
       "      [255/255 00:39, Epoch 3/3]\n",
       "    </div>\n",
       "    <table border=\"1\" class=\"dataframe\">\n",
       "  <thead>\n",
       " <tr style=\"text-align: left;\">\n",
       "      <th>Epoch</th>\n",
       "      <th>Training Loss</th>\n",
       "      <th>Validation Loss</th>\n",
       "    </tr>\n",
       "  </thead>\n",
       "  <tbody>\n",
       "    <tr>\n",
       "      <td>1</td>\n",
       "      <td>No log</td>\n",
       "      <td>0.005712</td>\n",
       "    </tr>\n",
       "    <tr>\n",
       "      <td>2</td>\n",
       "      <td>No log</td>\n",
       "      <td>0.001621</td>\n",
       "    </tr>\n",
       "    <tr>\n",
       "      <td>3</td>\n",
       "      <td>No log</td>\n",
       "      <td>0.001274</td>\n",
       "    </tr>\n",
       "  </tbody>\n",
       "</table><p>"
      ],
      "text/plain": [
       "<IPython.core.display.HTML object>"
      ]
     },
     "metadata": {},
     "output_type": "display_data"
    },
    {
     "data": {
      "text/plain": [
       "TrainOutput(global_step=255, training_loss=0.13402286604339, metrics={'train_runtime': 40.9109, 'train_samples_per_second': 98.996, 'train_steps_per_second': 6.233, 'total_flos': 32483551751100.0, 'train_loss': 0.13402286604339, 'epoch': 3.0})"
      ]
     },
     "execution_count": 8,
     "metadata": {},
     "output_type": "execute_result"
    }
   ],
   "source": [
    "from transformers import AutoTokenizer, AutoModelForSequenceClassification, Trainer, TrainingArguments\n",
    "import torch\n",
    "\n",
    "model_name = \"distilbert-base-uncased\"\n",
    "tokenizer = AutoTokenizer.from_pretrained(model_name)\n",
    "\n",
    "train_encodings = tokenizer(train_df['text'].tolist(), truncation=True, padding=True)\n",
    "val_encodings = tokenizer(val_df['text'].tolist(), truncation=True, padding=True)\n",
    "\n",
    "class PriorityDataset(torch.utils.data.Dataset):\n",
    "    def __init__(self, encodings, labels):\n",
    "        self.encodings = encodings\n",
    "        self.labels = labels\n",
    "    def __len__(self): return len(self.labels)\n",
    "    def __getitem__(self, idx):\n",
    "        item = {k: torch.tensor(v[idx]) for k, v in self.encodings.items()}\n",
    "        item[\"labels\"] = torch.tensor(self.labels[idx])\n",
    "        return item\n",
    "\n",
    "train_dataset = PriorityDataset(train_encodings, train_df['priority_label'].tolist())\n",
    "val_dataset = PriorityDataset(val_encodings, val_df['priority_label'].tolist())\n",
    "\n",
    "model = AutoModelForSequenceClassification.from_pretrained(model_name, num_labels=3).cuda()\n",
    "\n",
    "training_args = TrainingArguments(\n",
    "    output_dir=\"./priority_model\",\n",
    "    eval_strategy=\"epoch\",\n",
    "    per_device_train_batch_size=16,\n",
    "    per_device_eval_batch_size=16,\n",
    "    num_train_epochs=3,\n",
    "    weight_decay=0.01,\n",
    "    logging_dir=\"./logs\",\n",
    ")\n",
    "\n",
    "trainer = Trainer(\n",
    "    model=model,\n",
    "    args=training_args,\n",
    "    train_dataset=train_dataset,\n",
    "    eval_dataset=val_dataset,\n",
    ")\n",
    "\n",
    "trainer.train()\n"
   ]
  },
  {
   "cell_type": "code",
   "execution_count": 9,
   "id": "4ee99fed-ac15-481c-9fc3-e93940e699a7",
   "metadata": {},
   "outputs": [
    {
     "name": "stdout",
     "output_type": "stream",
     "text": [
      "Predicted Priority: medium\n"
     ]
    }
   ],
   "source": [
    "inputs = tokenizer(\"Pothole on road near school\", return_tensors=\"pt\").to(\"cuda\")\n",
    "outputs = model(**inputs)\n",
    "pred = torch.argmax(outputs.logits, dim=1).item()\n",
    "priority = list(priority_labels.keys())[list(priority_labels.values()).index(pred)]\n",
    "print(\"Predicted Priority:\", priority)"
   ]
  },
  {
   "cell_type": "code",
   "execution_count": 10,
   "id": "1f2c63d0-ad39-4115-940b-4e4357870bd1",
   "metadata": {},
   "outputs": [
    {
     "data": {
      "text/plain": [
       "('./priority_model\\\\tokenizer_config.json',\n",
       " './priority_model\\\\special_tokens_map.json',\n",
       " './priority_model\\\\vocab.txt',\n",
       " './priority_model\\\\added_tokens.json',\n",
       " './priority_model\\\\tokenizer.json')"
      ]
     },
     "execution_count": 10,
     "metadata": {},
     "output_type": "execute_result"
    }
   ],
   "source": [
    "model.save_pretrained(\"./priority_model\")\n",
    "tokenizer.save_pretrained(\"./priority_model\")"
   ]
  },
  {
   "cell_type": "code",
   "execution_count": null,
   "id": "f43a965a-80ba-40c7-bce9-c2a1acf715b2",
   "metadata": {},
   "outputs": [],
   "source": []
  }
 ],
 "metadata": {
  "kernelspec": {
   "display_name": "Python 3 (ipykernel)",
   "language": "python",
   "name": "python3"
  },
  "language_info": {
   "codemirror_mode": {
    "name": "ipython",
    "version": 3
   },
   "file_extension": ".py",
   "mimetype": "text/x-python",
   "name": "python",
   "nbconvert_exporter": "python",
   "pygments_lexer": "ipython3",
   "version": "3.12.11"
  }
 },
 "nbformat": 4,
 "nbformat_minor": 5
}
