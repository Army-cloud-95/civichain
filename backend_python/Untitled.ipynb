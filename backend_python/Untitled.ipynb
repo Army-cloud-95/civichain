{
 "cells": [
  {
   "cell_type": "code",
   "execution_count": 3,
   "id": "2a5417d1-66d5-4ef5-9262-a7f697648a4b",
   "metadata": {},
   "outputs": [
    {
     "name": "stdout",
     "output_type": "stream",
     "text": [
      "Requirement already satisfied: flask in c:\\users\\dell\\appdata\\local\\programs\\python\\python313\\lib\\site-packages (2.3.3)\n",
      "Requirement already satisfied: Werkzeug>=2.3.7 in c:\\users\\dell\\appdata\\local\\programs\\python\\python313\\lib\\site-packages (from flask) (3.1.3)\n",
      "Requirement already satisfied: Jinja2>=3.1.2 in c:\\users\\dell\\appdata\\local\\programs\\python\\python313\\lib\\site-packages (from flask) (3.1.6)\n",
      "Requirement already satisfied: itsdangerous>=2.1.2 in c:\\users\\dell\\appdata\\local\\programs\\python\\python313\\lib\\site-packages (from flask) (2.2.0)\n",
      "Requirement already satisfied: click>=8.1.3 in c:\\users\\dell\\appdata\\local\\programs\\python\\python313\\lib\\site-packages (from flask) (8.2.1)\n",
      "Requirement already satisfied: blinker>=1.6.2 in c:\\users\\dell\\appdata\\local\\programs\\python\\python313\\lib\\site-packages (from flask) (1.9.0)\n",
      "Requirement already satisfied: colorama in c:\\users\\dell\\appdata\\local\\programs\\python\\python313\\lib\\site-packages (from click>=8.1.3->flask) (0.4.6)\n",
      "Requirement already satisfied: MarkupSafe>=2.0 in c:\\users\\dell\\appdata\\local\\programs\\python\\python313\\lib\\site-packages (from Jinja2>=3.1.2->flask) (3.0.2)\n"
     ]
    }
   ],
   "source": [
    "!pip install flask"
   ]
  },
  {
   "cell_type": "code",
   "execution_count": 4,
   "id": "ed62a4a0-1f1f-4c5d-900b-0521a9849f12",
   "metadata": {},
   "outputs": [
    {
     "ename": "ModuleNotFoundError",
     "evalue": "No module named 'flask'",
     "output_type": "error",
     "traceback": [
      "\u001b[31m---------------------------------------------------------------------------\u001b[39m",
      "\u001b[31mModuleNotFoundError\u001b[39m                       Traceback (most recent call last)",
      "\u001b[36mCell\u001b[39m\u001b[36m \u001b[39m\u001b[32mIn[4]\u001b[39m\u001b[32m, line 1\u001b[39m\n\u001b[32m----> \u001b[39m\u001b[32m1\u001b[39m \u001b[38;5;28;01mfrom\u001b[39;00m\u001b[38;5;250m \u001b[39m\u001b[34;01mflask\u001b[39;00m\u001b[38;5;250m \u001b[39m\u001b[38;5;28;01mimport\u001b[39;00m Flask, request, render_template\n\u001b[32m      2\u001b[39m \u001b[38;5;28;01mfrom\u001b[39;00m\u001b[38;5;250m \u001b[39m\u001b[34;01mtransformers\u001b[39;00m\u001b[38;5;250m \u001b[39m\u001b[38;5;28;01mimport\u001b[39;00m AutoTokenizer, AutoModelForSequenceClassification\n\u001b[32m      3\u001b[39m \u001b[38;5;28;01mimport\u001b[39;00m\u001b[38;5;250m \u001b[39m\u001b[34;01mtorch\u001b[39;00m\n",
      "\u001b[31mModuleNotFoundError\u001b[39m: No module named 'flask'"
     ]
    }
   ],
   "source": [
    "from flask import Flask, request, render_template\n",
    "from transformers import AutoTokenizer, AutoModelForSequenceClassification\n",
    "import torch\n",
    "import joblib\n",
    "import os\n",
    "\n",
    "app = Flask(__name__)\n",
    "\n",
    "# Load Priority Model\n",
    "priority_tokenizer = AutoTokenizer.from_pretrained(\"priority_model\")\n",
    "priority_model = AutoModelForSequenceClassification.from_pretrained(\"priority_model\").to(\"cuda\")\n",
    "\n",
    "# Load Tagging Model\n",
    "tag_tokenizer = AutoTokenizer.from_pretrained(\"tagging_model\")\n",
    "tag_model = AutoModelForSequenceClassification.from_pretrained(\"tagging_model\").to(\"cuda\")\n",
    "\n",
    "# Load MultiLabelBinarizer\n",
    "mlb = joblib.load(\"mlb.pkl\")\n",
    "\n",
    "@app.route('/')\n",
    "def home():\n",
    "    return render_template(\"index.html\")\n",
    "\n",
    "@app.route('/predict', methods=[\"POST\"])\n",
    "def predict():\n",
    "    text = request.form[\"description\"]\n",
    "\n",
    "    # --- Predict Priority ---\n",
    "    inputs_priority = priority_tokenizer(text, return_tensors=\"pt\", truncation=True, padding=True).to(\"cuda\")\n",
    "    outputs_priority = priority_model(**inputs_priority)\n",
    "    pred_priority = torch.argmax(outputs_priority.logits, dim=1).item()\n",
    "    priority = {0: \"low\", 1: \"medium\", 2: \"high\"}[pred_priority]\n",
    "\n",
    "    # --- Predict Tags ---\n",
    "    inputs_tag = tag_tokenizer(text, return_tensors=\"pt\", truncation=True, padding=True).to(\"cuda\")\n",
    "    outputs_tag = tag_model(**inputs_tag)\n",
    "    probs = torch.sigmoid(outputs_tag.logits).detach().cpu().numpy()[0]\n",
    "    tags = mlb.inverse_transform([probs > 0.5])[0]\n",
    "\n",
    "    return render_template(\"index.html\", \n",
    "                           description=text, \n",
    "                           priority=priority, \n",
    "                           tags=tags)\n",
    "\n",
    "if __name__ == '__main__':\n",
    "    app.run(debug=True)\n"
   ]
  },
  {
   "cell_type": "code",
   "execution_count": null,
   "id": "8547d2cf-1bfa-40d4-8443-403f5c1d971e",
   "metadata": {},
   "outputs": [],
   "source": []
  }
 ],
 "metadata": {
  "kernelspec": {
   "display_name": "Python 3 (ipykernel)",
   "language": "python",
   "name": "python3"
  },
  "language_info": {
   "codemirror_mode": {
    "name": "ipython",
    "version": 3
   },
   "file_extension": ".py",
   "mimetype": "text/x-python",
   "name": "python",
   "nbconvert_exporter": "python",
   "pygments_lexer": "ipython3",
   "version": "3.12.11"
  }
 },
 "nbformat": 4,
 "nbformat_minor": 5
}
